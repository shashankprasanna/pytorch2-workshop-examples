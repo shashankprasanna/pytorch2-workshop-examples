{
 "cells": [
  {
   "cell_type": "code",
   "execution_count": null,
   "id": "79b09805-e61c-4be4-aaf0-2dc148b0b736",
   "metadata": {
    "tags": []
   },
   "outputs": [],
   "source": [
    "import torch\n",
    "import math\n",
    "import os\n",
    "import matplotlib.pyplot as plt\n",
    "from torch import optim\n",
    "import torch._dynamo\n",
    "from torchvision import models\n",
    "from torch.profiler import profile, record_function, ProfilerActivity\n",
    "\n",
    "pi = math.pi\n",
    "device = torch.device(\"cuda\") if torch.cuda.is_available() else \"cpu\""
   ]
  },
  {
   "cell_type": "code",
   "execution_count": null,
   "id": "a51c7031-33d1-44ee-8398-3137b5f7d085",
   "metadata": {
    "tags": []
   },
   "outputs": [],
   "source": [
    "def fn(x):\n",
    "    return torch.sin(x)**2 + torch.cos(x)**2"
   ]
  },
  {
   "cell_type": "code",
   "execution_count": null,
   "id": "0ba8ff94-c457-41fd-b7ff-91ac36872bee",
   "metadata": {
    "tags": []
   },
   "outputs": [],
   "source": [
    "torch.manual_seed(0)\n",
    "x = torch.rand(1000000, requires_grad=True).to(device)\n",
    "\n",
    "out = fn(x)\n",
    "torch.linalg.norm(out-1)"
   ]
  },
  {
   "cell_type": "code",
   "execution_count": null,
   "id": "f5f80ceb-7e1a-4140-a17c-b6827e6e7461",
   "metadata": {
    "tags": []
   },
   "outputs": [],
   "source": [
    "torch.manual_seed(0)\n",
    "x = torch.rand(1000000, requires_grad=True).to(device)\n",
    "\n",
    "def inspect_backend(gm, sample_inputs):\n",
    "    gm.print_readable()\n",
    "    return gm.forward\n",
    "\n",
    "torch._dynamo.reset()\n",
    "compiled_model = torch.compile(fn, backend=inspect_backend)\n",
    "\n",
    "out = compiled_model(x)"
   ]
  },
  {
   "cell_type": "code",
   "execution_count": null,
   "id": "b900c2c1-b83e-44ba-8eb2-c3d71c3bd53e",
   "metadata": {
    "tags": []
   },
   "outputs": [],
   "source": [
    "import torch._dynamo\n",
    "from torch.fx.passes.graph_drawer import FxGraphDrawer\n",
    "from torch._functorch.aot_autograd import aot_module_simplified\n",
    "\n",
    "def inspect_backend(gm, sample_inputs): \n",
    "    def fw(gm, sample_inputs):\n",
    "        gm.print_readable()\n",
    "        g = FxGraphDrawer(gm, 'fn')\n",
    "        with open(\"forward.svg\", \"wb\") as f:\n",
    "            f.write(g.get_dot_graph().create_svg())\n",
    "        return gm.forward\n",
    "    \n",
    "    def bw(gm, sample_inputs):\n",
    "        gm.print_readable()\n",
    "        g = FxGraphDrawer(gm, 'fn')\n",
    "        with open(\"backward.svg\", \"wb\") as f:\n",
    "            f.write(g.get_dot_graph().create_svg())\n",
    "        return gm.forward\n",
    "\n",
    "    # Invoke AOTAutograd\n",
    "    return aot_module_simplified(\n",
    "        gm,\n",
    "        sample_inputs,\n",
    "        fw_compiler=fw,\n",
    "        bw_compiler=bw\n",
    "    )\n",
    "\n",
    "torch._dynamo.reset()\n",
    "compiled_model = torch.compile(fn, backend=inspect_backend)\n",
    "\n",
    "out = compiled_model(x).sum().backward()\n"
   ]
  },
  {
   "cell_type": "code",
   "execution_count": null,
   "id": "6ef82181-5d3e-4c3f-8f6b-c12f1a353c17",
   "metadata": {
    "tags": []
   },
   "outputs": [],
   "source": [
    "compiled_model = torch.compile(fn, backend='inductor',\n",
    "                              options={'trace.enabled':True,\n",
    "                                      'trace.graph_diagram':True})\n",
    "\n",
    "out = compiled_model(x).sum().backward()"
   ]
  },
  {
   "cell_type": "code",
   "execution_count": null,
   "id": "46d2e9d0-dbb0-4bba-a98e-261326e856ae",
   "metadata": {},
   "outputs": [],
   "source": []
  }
 ],
 "metadata": {
  "kernelspec": {
   "display_name": "Python 3 (ipykernel)",
   "language": "python",
   "name": "python3"
  },
  "language_info": {
   "codemirror_mode": {
    "name": "ipython",
    "version": 3
   },
   "file_extension": ".py",
   "mimetype": "text/x-python",
   "name": "python",
   "nbconvert_exporter": "python",
   "pygments_lexer": "ipython3",
   "version": "3.10.9"
  }
 },
 "nbformat": 4,
 "nbformat_minor": 5
}
