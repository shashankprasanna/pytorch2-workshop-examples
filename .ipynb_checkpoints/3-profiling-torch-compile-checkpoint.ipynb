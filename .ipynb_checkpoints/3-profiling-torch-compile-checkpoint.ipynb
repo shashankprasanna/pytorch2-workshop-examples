{
 "cells": [
  {
   "cell_type": "code",
   "execution_count": null,
   "id": "a56b2a71-124c-49cd-9dae-b96e2caf3f5a",
   "metadata": {
    "tags": []
   },
   "outputs": [],
   "source": [
    "import torch\n",
    "import math\n",
    "import os\n",
    "import matplotlib.pyplot as plt\n",
    "from torch import optim\n",
    "import torch._dynamo\n",
    "from torchvision import models\n",
    "from torch.profiler import profile, record_function, ProfilerActivity\n",
    "\n",
    "pi = math.pi\n",
    "device = torch.device(\"cuda\") if torch.cuda.is_available() else \"cpu\""
   ]
  },
  {
   "cell_type": "code",
   "execution_count": null,
   "id": "188ff56b-fbb1-4c22-a4da-2ead661d8c0e",
   "metadata": {
    "tags": []
   },
   "outputs": [],
   "source": [
    "def sin_taylor(x,n,device):\n",
    "    sinx=0.\n",
    "    factorial = lambda d: torch.lgamma(torch.tensor(d+1,device=device)).exp()\n",
    "    for i in range(n):\n",
    "        sinx += ((-1.)**i)*(x**(1+2*i))/factorial(2*i+1)\n",
    "    return sinx"
   ]
  },
  {
   "cell_type": "code",
   "execution_count": null,
   "id": "9698abdf-ed72-494c-8cfa-6cb6df10cd2e",
   "metadata": {
    "tags": []
   },
   "outputs": [],
   "source": [
    "import matplotlib.pyplot as plt\n",
    "fig, ax = plt.subplots(3,3,figsize=(8,7))\n",
    "rads = torch.linspace(0,2*pi,100)\n",
    "ax=[b for a in ax for b in a]\n",
    "\n",
    "counter=0\n",
    "for i in range(1,10):\n",
    "    sinx = lambda x: sin_taylor(x,i,device)\n",
    "    ax[counter].plot(rads,sinx(rads.to(device)).cpu(),label=i)\n",
    "    ax[counter].set_title(f'sin(x) Taylor series terms: {i}')\n",
    "    ax[counter].set_xlabel('radians (0-2*pi)')\n",
    "    ax[counter].set_ylabel('sin(x)')\n",
    "    ax[counter].set_ylim([-1.2, 1.2])\n",
    "    ax[counter].set_xlim([0,7])\n",
    "    ax[counter].title.set_fontsize(8)\n",
    "    ax[counter].grid()\n",
    "    counter+=1\n",
    "fig.tight_layout()"
   ]
  },
  {
   "cell_type": "code",
   "execution_count": null,
   "id": "daff3cc8-47f8-4dd2-bf41-bcf0004c2546",
   "metadata": {
    "tags": []
   },
   "outputs": [],
   "source": [
    "torch.manual_seed(0)\n",
    "x = torch.rand(10000000, requires_grad=True).to(device)\n",
    "\n",
    "n=10\n",
    "model = lambda x: sin_taylor(x,n,device)"
   ]
  },
  {
   "cell_type": "code",
   "execution_count": null,
   "id": "4f419a02-41c5-46a1-8506-3336151964f0",
   "metadata": {
    "tags": []
   },
   "outputs": [],
   "source": [
    "%time out = model(x).sum().backward()"
   ]
  },
  {
   "cell_type": "code",
   "execution_count": null,
   "id": "987be0b4-899a-4e00-9fd5-5c661ead35fa",
   "metadata": {
    "tags": []
   },
   "outputs": [],
   "source": [
    "torch._dynamo.reset()\n",
    "compiled_model = torch.compile(model,options={'trace.enabled':True, 'trace.graph_diagram':True})\n",
    "out = compiled_model(x).sum().backward()"
   ]
  },
  {
   "cell_type": "code",
   "execution_count": null,
   "id": "4df1ef18-98c0-41e2-93a5-bba55cb077d3",
   "metadata": {
    "tags": []
   },
   "outputs": [],
   "source": [
    "%time out = compiled_model(x).sum().backward()"
   ]
  },
  {
   "cell_type": "code",
   "execution_count": null,
   "id": "b4ed7127-ef22-4b9a-a8f5-95e7b3bf416f",
   "metadata": {
    "tags": []
   },
   "outputs": [],
   "source": [
    "from torch.profiler import profile, record_function, ProfilerActivity\n",
    "with profile(activities=[ProfilerActivity.CUDA,ProfilerActivity.CPU]) as prof:\n",
    "    out = model(x).sum().backward()\n",
    "\n",
    "print(prof.key_averages(group_by_stack_n=5).table(sort_by=\"self_cuda_time_total\", row_limit=5))\n",
    "\n",
    "prof.export_chrome_trace(\"no_compile_trace.json\")"
   ]
  },
  {
   "cell_type": "code",
   "execution_count": null,
   "id": "bd457346-3bbf-4cdb-ab58-278a90388f7b",
   "metadata": {
    "tags": []
   },
   "outputs": [],
   "source": [
    "torch._dynamo.reset()\n",
    "compiled_model = torch.compile(model,options={'trace.enabled':True, 'trace.graph_diagram':True})\n",
    "out = compiled_model(x)"
   ]
  },
  {
   "cell_type": "code",
   "execution_count": null,
   "id": "14765a05-45ff-4d6a-9d05-b1ebfa09f5f1",
   "metadata": {
    "tags": []
   },
   "outputs": [],
   "source": [
    "from torch.profiler import profile, record_function, ProfilerActivity\n",
    "with profile(activities=[ProfilerActivity.CUDA],\n",
    "            ) as prof:\n",
    "    out = compiled_model(x)\n",
    "\n",
    "print(prof.key_averages(group_by_stack_n=5).table(sort_by=\"self_cuda_time_total\", row_limit=-1))\n",
    "\n",
    "prof.export_chrome_trace(\"compiled_trace.json\")"
   ]
  },
  {
   "cell_type": "code",
   "execution_count": null,
   "id": "26b6c46a-9467-4ae9-8572-d7ee7668c4e4",
   "metadata": {
    "tags": []
   },
   "outputs": [],
   "source": [
    "import torch._dynamo\n",
    "from torch.fx.passes.graph_drawer import FxGraphDrawer\n",
    "from torch._functorch.aot_autograd import aot_module_simplified\n",
    "\n",
    "def inspect_backend(gm, sample_inputs): \n",
    "    gm.print_readable()\n",
    "    return gm.forward\n",
    "\n",
    "torch._dynamo.reset()\n",
    "compiled_model = torch.compile(model, backend=inspect_backend)\n",
    "\n",
    "out = compiled_model(x).sum().backward()\n"
   ]
  },
  {
   "cell_type": "code",
   "execution_count": null,
   "id": "f98b5bf6-9785-409b-a9ea-804ef24c9c6e",
   "metadata": {
    "tags": []
   },
   "outputs": [],
   "source": [
    "import torch._dynamo\n",
    "from torch.fx.passes.graph_drawer import FxGraphDrawer\n",
    "from torch._functorch.aot_autograd import aot_module_simplified\n",
    "\n",
    "def inspect_backend(gm, sample_inputs): \n",
    "    def fw(gm, sample_inputs):\n",
    "        gm.print_readable()\n",
    "        g = FxGraphDrawer(gm, 'fn')\n",
    "        with open(\"forward.svg\", \"wb\") as f:\n",
    "            f.write(g.get_dot_graph().create_svg())\n",
    "        return gm.forward\n",
    "    \n",
    "    def bw(gm, sample_inputs):\n",
    "        gm.print_readable()\n",
    "        g = FxGraphDrawer(gm, 'fn')\n",
    "        with open(\"backward.svg\", \"wb\") as f:\n",
    "            f.write(g.get_dot_graph().create_svg())\n",
    "        return gm.forward\n",
    "\n",
    "    # Invoke AOTAutograd\n",
    "    return aot_module_simplified(\n",
    "        gm,\n",
    "        sample_inputs,\n",
    "        fw_compiler=fw,\n",
    "        bw_compiler=bw\n",
    "    )\n",
    "\n",
    "torch._dynamo.reset()\n",
    "compiled_model = torch.compile(model, backend=inspect_backend)\n",
    "\n",
    "out = compiled_model(x).sum().backward()\n"
   ]
  },
  {
   "cell_type": "code",
   "execution_count": null,
   "id": "31f9077a-0681-4355-9c07-be00f2ab53f4",
   "metadata": {},
   "outputs": [],
   "source": []
  },
  {
   "cell_type": "code",
   "execution_count": null,
   "id": "b3063828-f5e3-4fe3-a008-36c40252ce67",
   "metadata": {},
   "outputs": [],
   "source": []
  }
 ],
 "metadata": {
  "kernelspec": {
   "display_name": "Python 3 (ipykernel)",
   "language": "python",
   "name": "python3"
  },
  "language_info": {
   "codemirror_mode": {
    "name": "ipython",
    "version": 3
   },
   "file_extension": ".py",
   "mimetype": "text/x-python",
   "name": "python",
   "nbconvert_exporter": "python",
   "pygments_lexer": "ipython3",
   "version": "3.10.9"
  }
 },
 "nbformat": 4,
 "nbformat_minor": 5
}
